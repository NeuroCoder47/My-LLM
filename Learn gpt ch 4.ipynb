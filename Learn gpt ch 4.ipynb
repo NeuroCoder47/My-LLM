{
 "cells": [
  {
   "cell_type": "code",
   "execution_count": 2,
   "metadata": {},
   "outputs": [],
   "source": [
    "GPT_CONFIG_124M = {\n",
    "\"vocab_size\": 50257, # Vocabulary size\n",
    "\"context_length\": 1024, # Context length\n",
    "\"emb_dim\": 768, # Embedding dimension\n",
    "\"n_heads\": 12, # Number of attention heads\n",
    "\"n_layers\": 12, # Number of layers\n",
    "\"drop_rate\": 0.1, # Dropout rate\n",
    "\"qkv_bias\": False # Query-Key-Value bias\n",
    "}"
   ]
  },
  {
   "cell_type": "code",
   "execution_count": 3,
   "metadata": {},
   "outputs": [],
   "source": [
    "import torch\n",
    "import torch.nn as nn\n",
    "class DummyGPTModel(nn.Module):\n",
    "    def __init__(self, cfg):\n",
    "        super().__init__()\n",
    "        self.tok_emb = nn.Embedding(cfg[\"vocab_size\"], cfg[\"emb_dim\"])\n",
    "        self.pos_emb = nn.Embedding(cfg[\"context_length\"], cfg[\"emb_dim\"])\n",
    "        self.drop_emb = nn.Dropout(cfg[\"drop_rate\"])\n",
    "        self.trf_blocks = nn.Sequential(\n",
    "        *[DummyTransformerBlock(cfg)\n",
    "        for _ in range(cfg[\"n_layers\"])]\n",
    "        )\n",
    "        self.final_norm = DummyLayerNorm(cfg[\"emb_dim\"])\n",
    "        self.out_head = nn.Linear(\n",
    "        cfg[\"emb_dim\"], cfg[\"vocab_size\"], bias=False\n",
    "        )\n",
    "    def forward(self, in_idx):\n",
    "        batch_size, seq_len = in_idx.shape\n",
    "        tok_embeds = self.tok_emb(in_idx)\n",
    "        pos_embeds = self.pos_emb(\n",
    "        torch.arange(seq_len, device=in_idx.device)\n",
    "        )\n",
    "        x = tok_embeds + pos_embeds\n",
    "        x = self.drop_emb(x)\n",
    "        x = self.trf_blocks(x)\n",
    "        x = self.final_norm(x)\n",
    "        logits = self.out_head(x)\n",
    "        return logits\n",
    "class DummyTransformerBlock(nn.Module):\n",
    "\n",
    "    def __init__(self, cfg):\n",
    "        super().__init__()\n",
    "    def forward(self, x):\n",
    "        return x\n",
    "class DummyLayerNorm(nn.Module):\n",
    "    def __init__(self, normalized_shape, eps=1e-5):\n",
    "        super().__init__()\n",
    "    def forward(self, x):\n",
    "        return x"
   ]
  },
  {
   "cell_type": "markdown",
   "metadata": {},
   "source": [
    "The DummyGPTModel class in this code defines a simplified version of a GPT-like\n",
    "model using PyTorch’s neural network module (nn.Module). The model architecture\n",
    "in the DummyGPTModel class consists of token and positional embeddings, dropout,a series of transformer blocks (DummyTransformerBlock), a final layer normalization(DummyLayerNorm), and a linear output layer (out_head). The configuration ispassed in via a Python dictionary, for instance, the GPT_CONFIG_124M dictionary we created earlier.\n",
    "\n",
    " \n",
    " \n",
    "The forward method describes the data flow through the model: it computes token\n",
    "and positional embeddings for the input indices, applies dropout, processes the datathrough the transformer blocks, applies normalization, and finally produces logits with the linear output layer"
   ]
  },
  {
   "cell_type": "code",
   "execution_count": 4,
   "metadata": {},
   "outputs": [
    {
     "name": "stdout",
     "output_type": "stream",
     "text": [
      "tensor([[6109, 3626, 6100,  345],\n",
      "        [6109, 1110, 6622,  257]])\n"
     ]
    }
   ],
   "source": [
    "import tiktoken\n",
    "tokenizer = tiktoken.get_encoding(\"gpt2\")\n",
    "batch = []\n",
    "txt1 = \"Every effort moves you\"\n",
    "txt2 = \"Every day holds a\"\n",
    "batch.append(torch.tensor(tokenizer.encode(txt1)))\n",
    "batch.append(torch.tensor(tokenizer.encode(txt2)))\n",
    "batch = torch.stack(batch, dim=0)\n",
    "print(batch)"
   ]
  },
  {
   "cell_type": "code",
   "execution_count": 5,
   "metadata": {},
   "outputs": [
    {
     "name": "stdout",
     "output_type": "stream",
     "text": [
      "Output shape: torch.Size([2, 4, 50257])\n",
      "tensor([[[-0.9289,  0.2748, -0.7557,  ..., -1.6070,  0.2702, -0.5888],\n",
      "         [-0.4476,  0.1726,  0.5354,  ..., -0.3932,  1.5285,  0.8557],\n",
      "         [ 0.5680,  1.6053, -0.2155,  ...,  1.1624,  0.1380,  0.7425],\n",
      "         [ 0.0447,  2.4787, -0.8843,  ...,  1.3219, -0.0864, -0.5856]],\n",
      "\n",
      "        [[-1.5474, -0.0542, -1.0571,  ..., -1.8061, -0.4494, -0.6747],\n",
      "         [-0.8422,  0.8243, -0.1098,  ..., -0.1434,  0.2079,  1.2046],\n",
      "         [ 0.1355,  1.1858, -0.1453,  ...,  0.0869, -0.1590,  0.1552],\n",
      "         [ 0.1666, -0.8138,  0.2307,  ...,  2.5035, -0.3055, -0.3083]]],\n",
      "       grad_fn=<UnsafeViewBackward0>)\n"
     ]
    }
   ],
   "source": [
    "torch.manual_seed(123)\n",
    "model = DummyGPTModel(GPT_CONFIG_124M)\n",
    "logits = model(batch)\n",
    "print(\"Output shape:\", logits.shape)\n",
    "print(logits)"
   ]
  },
  {
   "cell_type": "markdown",
   "metadata": {},
   "source": [
    "Let’s now implement layer normalization to improve the stability and efficiency of neu-\n",
    "ral network training. The main idea behind layer normalization is to adjust the activa-\n",
    "tions (outputs) of a neural network layer to have a mean of 0 and a variance of 1, also\n",
    "known as unit variance. "
   ]
  },
  {
   "cell_type": "code",
   "execution_count": 6,
   "metadata": {},
   "outputs": [
    {
     "name": "stdout",
     "output_type": "stream",
     "text": [
      "tensor([[0.4597, 0.5231, 0.0000, 0.0000, 0.1215, 0.0000, 0.1660, 0.0000, 0.4517,\n",
      "         0.1732],\n",
      "        [0.4471, 0.4156, 0.0000, 0.0000, 0.5732, 0.1271, 0.1047, 0.0000, 0.0000,\n",
      "         0.2937]], grad_fn=<ReluBackward0>)\n"
     ]
    }
   ],
   "source": [
    "torch.manual_seed(123)\n",
    "batch_example= torch.randn(2,5)\n",
    "layer = nn.Sequential(nn.Linear(5,10),nn.ReLU())\n",
    "out = layer(batch_example)\n",
    "print(out)"
   ]
  },
  {
   "cell_type": "markdown",
   "metadata": {},
   "source": [
    "This code is creating and using a simple **neural network layer** in PyTorch. Let’s break it down step by step in an easy way:  \n",
    "\n",
    "---\n",
    "\n",
    "### **1. Setting a Random Seed**\n",
    "```python\n",
    "torch.manual_seed(123)\n",
    "```\n",
    "- This makes sure that every time we run the code, we get the same random numbers.  \n",
    "- It is useful for reproducibility (so results don’t change every time you run the code).  \n",
    "\n",
    "---\n",
    "\n",
    "### **2. Creating a Random Input Batch**\n",
    "```python\n",
    "batch_example = torch.randn(2, 5)\n",
    "```\n",
    "- `torch.randn(2, 5)` creates a **2×5 matrix** filled with random numbers from a normal distribution.  \n",
    "- This represents a **batch** of 2 samples, each having **5 features**.  \n",
    "- Example (random numbers will be different):  \n",
    "  ```\n",
    "  [[ 1.23, -0.45,  0.67, -1.09,  0.82],\n",
    "   [-0.67,  1.45, -0.89,  0.33, -0.76]]\n",
    "  ```\n",
    "\n",
    "---\n",
    "\n",
    "### **3. Creating a Simple Neural Network Layer**\n",
    "```python\n",
    "layer = nn.Sequential(nn.Linear(5, 10), nn.ReLU())\n",
    "```\n",
    "- `nn.Sequential(...)` stacks layers together. Here, we have:  \n",
    "  1. `nn.Linear(5, 10)`:  \n",
    "     - A **fully connected (linear) layer** that takes 5 input values and produces 10 output values.  \n",
    "     - It does this by multiplying the input by a **weight matrix** and adding a **bias**.  \n",
    "  2. `nn.ReLU()`:  \n",
    "     - A **ReLU (Rectified Linear Unit) activation function**, which replaces all negative values with **0**.  \n",
    "     - It helps the model learn **non-linear patterns**.  \n",
    "\n",
    "---\n",
    "\n",
    "### **4. Passing Data Through the Layer**\n",
    "```python\n",
    "out = layer(batch_example)\n",
    "```\n",
    "- The `batch_example` (which has a shape of **(2,5)**) is passed through the `layer`.  \n",
    "- The **linear layer** transforms it into a shape of **(2,10)** (since it outputs 10 values).  \n",
    "- The **ReLU activation** sets all negative values to zero.  \n",
    "\n",
    "---\n",
    "\n",
    "### **5. Printing the Output**\n",
    "```python\n",
    "print(out)\n",
    "```\n",
    "- The final output is a **2×10 matrix** with transformed values.  \n",
    "- Example output (values will be different due to randomness):  \n",
    "  ```\n",
    "  tensor([[0.54, 0.00, 1.23, 0.00, 0.98, 0.00, 0.00, 0.76, 0.00, 0.12],\n",
    "          [0.00, 0.67, 0.00, 0.89, 0.00, 0.34, 1.45, 0.00, 0.98, 0.00]])\n",
    "  ```\n",
    "- Notice how some values are **zero** because of the **ReLU activation function**.\n",
    "\n",
    "---\n",
    "\n",
    "### **Final Summary**\n",
    "- We created **random input data** (2 samples, each with 5 features).  \n",
    "- We defined a **simple neural network layer** (Linear transformation + ReLU activation).  \n",
    "- We passed the input through this layer, getting a **transformed output**.  \n",
    "- The output is a **2×10 matrix**, where some values are set to **zero** by ReLU.  \n",
    "\n",
    "This is a small part of how deep learning models work! 🚀"
   ]
  },
  {
   "cell_type": "code",
   "execution_count": 7,
   "metadata": {},
   "outputs": [
    {
     "name": "stdout",
     "output_type": "stream",
     "text": [
      "Mean :  tensor([[0.1895],\n",
      "        [0.1961]], grad_fn=<MeanBackward1>)\n",
      "Varienace :  tensor([[0.0447],\n",
      "        [0.0478]], grad_fn=<VarBackward0>)\n"
     ]
    }
   ],
   "source": [
    "mean = out.mean(dim = 1 , keepdim= True)\n",
    "var =  out.var(dim = 1 , keepdim = True)\n",
    "print(\"Mean : \", mean)\n",
    "print(\"Varienace : \", var)\n"
   ]
  },
  {
   "cell_type": "code",
   "execution_count": 8,
   "metadata": {},
   "outputs": [
    {
     "name": "stdout",
     "output_type": "stream",
     "text": [
      "Normalized layer outputs:\n",
      " tensor([[ 1.2783,  1.5781, -0.8966, -0.8966, -0.3217, -0.8966, -0.1114, -0.8966,\n",
      "          1.2404, -0.0774],\n",
      "        [ 1.1482,  1.0041, -0.8975, -0.8975,  1.7255, -0.3157, -0.4186, -0.8975,\n",
      "         -0.8975,  0.4465]], grad_fn=<DivBackward0>)\n",
      "Mean:\n",
      " tensor([[ 5.9605e-08],\n",
      "        [-2.3842e-08]], grad_fn=<MeanBackward1>)\n",
      "Variance:\n",
      " tensor([[1.0000],\n",
      "        [1.0000]], grad_fn=<VarBackward0>)\n"
     ]
    }
   ],
   "source": [
    "out_norm = (out - mean)/torch.sqrt(var)\n",
    "mean = out_norm.mean(dim = -1, keepdim = True)\n",
    "var = out_norm.var(dim = -1, keepdim = True)\n",
    "print(\"Normalized layer outputs:\\n\", out_norm)\n",
    "print(\"Mean:\\n\", mean)\n",
    "print(\"Variance:\\n\", var)"
   ]
  },
  {
   "cell_type": "code",
   "execution_count": 9,
   "metadata": {},
   "outputs": [],
   "source": [
    "class LayerNorm(nn.Module):\n",
    "    def __init__(self, emb_dim):\n",
    "        super().__init__()\n",
    "        self.eps = 1e-5\n",
    "        self.scale = nn.Parameter(torch.ones(emb_dim))\n",
    "        self.shift = nn.Parameter(torch.zeros(emb_dim))\n",
    "    def forward(self,x):\n",
    "        mean = x.mean(dim = -1, keepdim = True)\n",
    "        var = x.var(dim = -1, keepdim = True)\n",
    "        norm_x=(x-mean)/ torch.sqrt(var+self.eps)\n",
    "        return norm_x*self.scale+self.shift\n",
    "    "
   ]
  },
  {
   "cell_type": "markdown",
   "metadata": {},
   "source": [
    "This specific implementation of layer normalization operates on the last dimension of the input tensor x, which represents the embedding dimension (emb_dim). \n",
    "\n",
    "The vari-able eps is a small constant (epsilon) added to the variance to prevent division by zeroduring normalization. \n",
    "\n",
    "\n",
    "The scale and shift are two trainable parameters (of thesame dimension as the input) that the LLM automatically adjusts during training if it\n",
    "is determined that doing so would improve the model’s performance on its training\n",
    "task.\n",
    "\n",
    " This allows the model to learn appropriate scaling and shifting that best suit thedata it is processing."
   ]
  },
  {
   "cell_type": "markdown",
   "metadata": {},
   "source": [
    "This code defines a **custom Layer Normalization (LayerNorm) module** in PyTorch. Let’s break it down step by step in simple terms.\n",
    "\n",
    "---\n",
    "\n",
    "## **1. What is Layer Normalization?**\n",
    "Layer Normalization is a technique that **normalizes** the inputs across their features. This helps stabilize and speed up training in deep learning models.\n",
    "\n",
    "---\n",
    "\n",
    "## **2. Breaking Down the Code**\n",
    "### **Step 1: Creating a Custom Neural Network Module**\n",
    "```python\n",
    "class LayerNorm(nn.Module):\n",
    "```\n",
    "- This defines a new class called `LayerNorm`, which is a custom **neural network layer**.  \n",
    "- It **inherits** from `nn.Module`, which is the base class for all PyTorch models.\n",
    "\n",
    "---\n",
    "\n",
    "### **Step 2: Initializing the Layer**\n",
    "```python\n",
    "def __init__(self, emb_dim):\n",
    "    super().__init__()\n",
    "    self.eps = 1e-5\n",
    "    self.scale = nn.Parameter(torch.ones(emb_dim))\n",
    "    self.shift = nn.Parameter(torch.zeros(emb_dim))\n",
    "```\n",
    "- This is the **constructor** (`__init__` method), which runs when we create a `LayerNorm` object.\n",
    "- **`emb_dim`** is the number of input features (i.e., how many values each input has).  \n",
    "- **`self.eps = 1e-5`**:  \n",
    "  - A small constant added to prevent division by zero.  \n",
    "- **`self.scale` and `self.shift`**:  \n",
    "  - These are **trainable parameters** that allow the model to adjust the normalization.  \n",
    "  - `scale` (γ) starts as **ones** (so it doesn’t change the input initially).  \n",
    "  - `shift` (β) starts as **zeros** (so it doesn’t add any offset initially).  \n",
    "  - `nn.Parameter(...)` makes them **learnable** during training.\n",
    "\n",
    "> **⚠️ Mistake:** The `__init__` method is missing a `_` in `__init(self, emb_dim)`. It should be `__init__(self, emb_dim)`.\n",
    "\n",
    "---\n",
    "\n",
    "### **Step 3: Forward Pass (Applying Layer Normalization)**\n",
    "```python\n",
    "def forward(self, x):\n",
    "    mean = x.mean(dim=-1, keepdim=True)\n",
    "    var = x.var(dim=-1, keepdim=True)\n",
    "    norm_x = (x - mean) / torch.sqrt(var + self.eps)\n",
    "    return norm_x * self.scale + self.shift\n",
    "```\n",
    "This method defines how the input `x` is transformed when passed through the layer.  \n",
    "\n",
    "#### **Breaking it down:**\n",
    "1. **Compute the Mean:**\n",
    "   ```python\n",
    "   mean = x.mean(dim=-1, keepdim=True)\n",
    "   ```\n",
    "   - Calculates the **mean** of `x` along the last dimension (`dim=-1`).\n",
    "   - `keepdim=True` ensures that the result has the same shape as `x`, making broadcasting easier.\n",
    "\n",
    "2. **Compute the Variance:**\n",
    "   ```python\n",
    "   var = x.var(dim=-1, keepdim=True)\n",
    "   ```\n",
    "   - Calculates the **variance** of `x` along the last dimension.\n",
    "\n",
    "3. **Normalize the Input:**\n",
    "   ```python\n",
    "   norm_x = (x - mean) / torch.sqrt(var + self.eps)\n",
    "   ```\n",
    "   - Subtracts the mean and divides by the **standard deviation** (`sqrt(variance)`).\n",
    "   - This **scales** the data so that it has a mean of 0 and a variance of 1.\n",
    "\n",
    "4. **Apply Learnable Parameters (Scale and Shift):**\n",
    "   ```python\n",
    "   return norm_x * self.scale + self.shift\n",
    "   ```\n",
    "   - Multiplies by `self.scale` (γ) and adds `self.shift` (β).\n",
    "   - This allows the network to **adjust the normalization** during training.\n",
    "\n",
    "---\n",
    "\n",
    "## **3. Summary**\n",
    "🔹 **What does this LayerNorm class do?**\n",
    "- Normalizes each sample **independently** across its features.  \n",
    "- Ensures a mean of **0** and variance of **1**.  \n",
    "- Uses **trainable parameters** (`scale` and `shift`) to allow flexibility.  \n",
    "\n",
    "🔹 **Why use Layer Normalization?**\n",
    "- It helps **stabilize** training, especially in **transformers** and recurrent networks.  \n",
    "- Unlike **BatchNorm**, it does **not** depend on batch size (so it works well in small batches).  \n",
    "\n",
    "This is a simplified version of PyTorch’s built-in `nn.LayerNorm`! 🚀"
   ]
  },
  {
   "cell_type": "markdown",
   "metadata": {},
   "source": [
    "GELU Activation function"
   ]
  },
  {
   "cell_type": "code",
   "execution_count": 10,
   "metadata": {},
   "outputs": [
    {
     "data": {
      "image/png": "[encoded data removed]",
      "text/plain": [
       "<Figure size 800x300 with 2 Axes>"
      ]
     },
     "metadata": {},
     "output_type": "display_data"
    }
   ],
   "source": [
    "class GELU(nn.Module):\n",
    "    def forward(self,x):\n",
    "        return 0.5*0.5 * x * (1 + torch.tanh(torch.sqrt(torch.tensor(2.0 / torch.pi)) *(x + 0.044715 * torch.pow(x, 3))))\n",
    "\n",
    "import matplotlib.pyplot as plt\n",
    "gelu, relu = GELU(), nn.ReLU()\n",
    "x = torch.linspace(-3, 3, 100)\n",
    "y_gelu, y_relu = gelu(x), relu(x)\n",
    "plt.figure(figsize=(8, 3))\n",
    "for i, (y, label) in enumerate(zip([y_gelu, y_relu], [\"GELU\", \"ReLU\"]), 1):\n",
    "    plt.subplot(1, 2, i)\n",
    "    plt.plot(x, y)\n",
    "    plt.title(f\"{label} activation function\")\n",
    "    plt.xlabel(\"x\")\n",
    "    plt.ylabel(f\"{label}(x)\")\n",
    "    plt.grid(True)\n",
    "plt.tight_layout()\n",
    "plt.show()"
   ]
  },
  {
   "cell_type": "code",
   "execution_count": 11,
   "metadata": {},
   "outputs": [],
   "source": [
    "class FeedForward(nn.Module):\n",
    "    def __init__(self, cfg):\n",
    "        super().__init__()\n",
    "        self.layers = nn.Sequential(\n",
    "            nn.Linear(cfg[\"emb_dim\"], 4 * cfg[\"emb_dim\"]),\n",
    "            GELU(),\n",
    "            nn.Linear(4 * cfg[\"emb_dim\"], cfg[\"emb_dim\"]),\n",
    "        )\n",
    "    def forward(self,x):\n",
    "        return self.layers(x)"
   ]
  },
  {
   "cell_type": "markdown",
   "metadata": {},
   "source": [
    "Let's break down the provided code step by step to understand its components and functionality:\n",
    "\n",
    "```python\n",
    "class FeedForward(nn.Module):\n",
    "    def __init__(self, cfg):\n",
    "        super().__init__()\n",
    "        self.layers = nn.Sequential(\n",
    "            nn.Linear(cfg[\"emb_dim\"], 4 * cfg[\"emb_dim\"]),\n",
    "            GELU(),\n",
    "            nn.Linear(4 * cfg[\"emb_dim\"], cfg[\"emb_dim\"]),\n",
    "        )\n",
    "    def forward(self, x):\n",
    "        return self.layers(x)\n",
    "```\n",
    "\n",
    "1. **Defining the `FeedForward` Class**:\n",
    "   - `class FeedForward(nn.Module):`\n",
    "     - This line defines a new class named `FeedForward` that inherits from `nn.Module`, which is the base class for all neural network modules in PyTorch. Inheriting from `nn.Module` allows us to leverage PyTorch's built-in functionalities for neural networks.\n",
    "\n",
    "2. **Initialization Method (`__init__`)**:\n",
    "   - `def __init__(self, cfg):`\n",
    "     - This is the constructor method that initializes the `FeedForward` class. It takes `cfg` as an argument, which is expected to be a dictionary containing configuration parameters.\n",
    "\n",
    "   - `super().__init__()`\n",
    "     - This line calls the constructor of the parent class (`nn.Module`) to ensure that the base class is properly initialized.\n",
    "\n",
    "   - `self.layers = nn.Sequential(...)`\n",
    "     - Here, we define a sequence of layers using `nn.Sequential`, which is a container module that processes inputs through a sequence of sub-modules in the order they are added.\n",
    "\n",
    "3. **Defining the Sequential Layers**:\n",
    "   - `nn.Linear(cfg[\"emb_dim\"], 4 * cfg[\"emb_dim\"]),`\n",
    "     - This creates a linear (fully connected) layer that takes an input of size `cfg[\"emb_dim\"]` and outputs a tensor of size `4 * cfg[\"emb_dim\"]`. The `nn.Linear` module applies a linear transformation to the incoming data.\n",
    "\n",
    "   - `GELU(),`\n",
    "     - This applies the Gaussian Error Linear Unit (GELU) activation function, which is commonly used in transformer models. The GELU activation function is defined as:\n",
    "\n",
    "       \\[ \\text{GELU}(x) = x \\cdot \\Phi(x) \\]\n",
    "\n",
    "       where \\( \\Phi(x) \\) is the cumulative distribution function of the standard normal distribution.\n",
    "\n",
    "   - `nn.Linear(4 * cfg[\"emb_dim\"], cfg[\"emb_dim\"]),`\n",
    "     - This adds another linear layer that reduces the dimensionality back from `4 * cfg[\"emb_dim\"]` to `cfg[\"emb_dim\"]`.\n",
    "\n",
    "4. **Forward Method**:\n",
    "   - `def forward(self, x):`\n",
    "     - This method defines the forward pass of the network. It takes an input tensor `x` and passes it through the sequence of layers defined in `self.layers`.\n",
    "\n",
    "   - `return self.layers(x)`\n",
    "     - This line applies the sequential layers to the input `x` and returns the output.\n",
    "\n",
    "**Summary**:\n",
    "The `FeedForward` class represents a feedforward neural network module commonly used in transformer architectures. It consists of two linear transformations with a GELU activation function in between. The first linear layer expands the input dimensionality by a factor of four, the GELU activation introduces non-linearity, and the second linear layer projects the dimensionality back to its original size. This structure allows the model to learn complex representations and is a standard component in transformer-based models. "
   ]
  },
  {
   "cell_type": "code",
   "execution_count": 12,
   "metadata": {},
   "outputs": [
    {
     "name": "stdout",
     "output_type": "stream",
     "text": [
      "torch.Size([2, 3, 768])\n"
     ]
    }
   ],
   "source": [
    "ffn = FeedForward(GPT_CONFIG_124M)\n",
    "x = torch.rand(2, 3, 768)\n",
    "out = ffn(x)\n",
    "print(out.shape)"
   ]
  },
  {
   "cell_type": "code",
   "execution_count": 15,
   "metadata": {},
   "outputs": [],
   "source": [
    "class ShortcutConnection(nn.Module):\n",
    "    def __init__(self,layer_size,use_shortcut):\n",
    "        super().__init__()\n",
    "        self.use_shortcut = use_shortcut\n",
    "        self.layers = nn.ModuleList([\n",
    "            nn.Sequential(nn.Linear(layer_size[0] , layer_size[1]),\n",
    "                         GELU() ),\n",
    "             nn.Sequential(nn.Linear(layer_size[0] , layer_size[1]),\n",
    "                         GELU() ),\n",
    "             nn.Sequential(nn.Linear(layer_size[0] , layer_size[1]),\n",
    "                         GELU() ),\n",
    "             nn.Sequential(nn.Linear(layer_size[0] , layer_size[1]),\n",
    "                         GELU() ),\n",
    "        ])\n",
    "    def forward(self,x):\n",
    "            for layer in self.layers:\n",
    "                layer_output = layer(x)\n",
    "                if self.use_shortcut and x.shape == layer_output.shape:\n",
    "                    x = x + layer_output\n",
    "                else:\n",
    "                    x = layer_output\n",
    "            return x\n",
    "\n",
    "\n"
   ]
  },
  {
   "cell_type": "code",
   "execution_count": 16,
   "metadata": {},
   "outputs": [
    {
     "name": "stdout",
     "output_type": "stream",
     "text": [
      "layers.0.0.weight has gradient mean of 0.10845032334327698\n",
      "layers.1.0.weight has gradient mean of 0.07727959007024765\n",
      "layers.2.0.weight has gradient mean of 0.126175656914711\n",
      "layers.3.0.weight has gradient mean of 0.1201065257191658\n"
     ]
    },
    {
     "name": "stderr",
     "output_type": "stream",
     "text": [
      "C:\\Users\\ashmi\\AppData\\Local\\Packages\\PythonSoftwareFoundation.Python.3.8_qbz5n2kfra8p0\\LocalCache\\local-packages\\Python38\\site-packages\\torch\\nn\\modules\\loss.py:535: UserWarning: Using a target size (torch.Size([1, 1])) that is different to the input size (torch.Size([1, 3])). This will likely lead to incorrect results due to broadcasting. Please ensure they have the same size.\n",
      "  return F.mse_loss(input, target, reduction=self.reduction)\n"
     ]
    }
   ],
   "source": [
    "layer_sizes = [3, 3, 3, 3, 3, 1]\n",
    "sample_input = torch.tensor([[1., 0., -1.]])\n",
    "torch.manual_seed(123)\n",
    "model_without_shortcut = ShortcutConnection(\n",
    "layer_sizes, use_shortcut=False\n",
    ")\n",
    "\n",
    "\n",
    "def print_gradients(model, x):\n",
    "    output = model(x)\n",
    "    target = torch.tensor([[0.]])\n",
    "    loss = nn.MSELoss()\n",
    "    loss = loss(output, target)\n",
    "    loss.backward()\n",
    "    for name, param in model.named_parameters():\n",
    "        if 'weight' in name:\n",
    "            print(f\"{name} has gradient mean of {param.grad.abs().mean().item()}\")\n",
    "\n",
    "\n",
    "torch.manual_seed(123)\n",
    "model_with_shortcut = ShortcutConnection(\n",
    "layer_sizes, use_shortcut=True\n",
    ")\n",
    "print_gradients(model_with_shortcut, sample_input)"
   ]
  },
  {
   "cell_type": "code",
   "execution_count": 41,
   "metadata": {},
   "outputs": [],
   "source": [
    "class MulatHeadAttention(nn.Module):\n",
    "    def __init__(self, d_in, d_out,context_length , dropout, num_heads, qkv_bias = False):\n",
    "        super().__init__()\n",
    "        assert (d_out % num_heads == 0), \\\n",
    "            \"d_out must be divisible by num_heads\"\n",
    "        self.d_out = d_out\n",
    "        self.num_heads = num_heads\n",
    "        self.head_dim = d_out // num_heads \n",
    "        self.W_query = nn.Linear(d_in, d_out, bias=qkv_bias)\n",
    "        self.W_key = nn.Linear(d_in, d_out, bias=qkv_bias)\n",
    "        self.W_value = nn.Linear(d_in, d_out, bias=qkv_bias)\n",
    "        self.out_proj = nn.Linear(d_out, d_out)\n",
    "        self.dropout = nn.Dropout(dropout)\n",
    "        self.register_buffer('mask' , torch.triu(torch.ones(context_length, context_length), diagonal=1))\n",
    "    def forward(self , x):\n",
    "        b, num_tokens,d_in = x.shape\n",
    "        keys = self.W_key(x)\n",
    "        queries = self.W_query(x)\n",
    "        values = self.W_value(x)\n",
    "        keys = keys.view(b, num_tokens,self.num_heads,self.head_dim)\n",
    "        values = values.view(b, num_tokens,self.num_heads,self.head_dim)\n",
    "        queries = queries.view(b, num_tokens,self.num_heads,self.head_dim)\n",
    "        keys = keys.transpose(1,2)\n",
    "        queries = queries.transpose(1,2)\n",
    "        values = values.transpose(1,2)\n",
    "        attn_scores = queries @ keys.transpose(-2,-1)\n",
    "        mask_bool = self.mask.bool()[:num_tokens, :num_tokens]\n",
    "        attn_scores.masked_fill_(mask_bool, -torch.inf)\n",
    "        attn_weights = torch.softmax(attn_scores / keys.shape[-1]**0.5, dim=-1)\n",
    "        attn_weights = self.dropout(attn_weights)\n",
    "        context_vec= (attn_weights@values).transpose(1,2)\n",
    "        contex_vec  = context_vec.contigious().view(b, num_tokens,self.d_out)\n",
    "        contex_vec= contex_vec.out_proj(contex_vec)\n",
    "        return contex_vec\n"
   ]
  },
  {
   "cell_type": "code",
   "execution_count": 42,
   "metadata": {},
   "outputs": [],
   "source": [
    "class TransformerBlock(nn.Module):\n",
    "    def __init__(self, cfg):\n",
    "        super().__init__()\n",
    "        self.att = MulatHeadAttention(\n",
    "             d_in=cfg[\"emb_dim\"],\n",
    "             d_out=cfg[\"emb_dim\"],\n",
    "             context_length=cfg[\"context_length\"],\n",
    "             num_heads=cfg[\"n_heads\"],\n",
    "             dropout=cfg[\"drop_rate\"],\n",
    "             qkv_bias=cfg[\"qkv_bias\"] \n",
    "        )\n",
    "        self.ff = FeedForward(cfg)\n",
    "        self.norm1 = LayerNorm(cfg[\"emb_dim\"])\n",
    "        self.norm2 = LayerNorm(cfg[\"emb_dim\"])\n",
    "        self.drop_shortcut = nn.Dropout(cfg[\"drop_rate\"])\n",
    "    def forward(self,x):\n",
    "        shortcut = x\n",
    "        x = self.norm1(x)\n",
    "        x = self.att(x)\n",
    "        x = self.drop_shortcut(x)\n",
    "        x = x + shortcut\n",
    "        shortcut = x\n",
    "        x = self.norm2(x)\n",
    "        x = self.ff(x)\n",
    "        x = self.drop_shortcut(x)\n",
    "        x = x + shortcut\n",
    "        return x\n",
    "\n"
   ]
  },
  {
   "cell_type": "code",
   "execution_count": 43,
   "metadata": {},
   "outputs": [
    {
     "ename": "AttributeError",
     "evalue": "'Tensor' object has no attribute 'contigious'",
     "output_type": "error",
     "traceback": [
      "\u001b[1;31m---------------------------------------------------------------------------\u001b[0m",
      "\u001b[1;31mAttributeError\u001b[0m                            Traceback (most recent call last)",
      "Cell \u001b[1;32mIn[43], line 4\u001b[0m\n\u001b[0;32m      2\u001b[0m x \u001b[38;5;241m=\u001b[39m torch\u001b[38;5;241m.\u001b[39mrand(\u001b[38;5;241m2\u001b[39m, \u001b[38;5;241m4\u001b[39m, \u001b[38;5;241m768\u001b[39m)\n\u001b[0;32m      3\u001b[0m block \u001b[38;5;241m=\u001b[39m TransformerBlock(GPT_CONFIG_124M)\n\u001b[1;32m----> 4\u001b[0m output \u001b[38;5;241m=\u001b[39m \u001b[43mblock\u001b[49m\u001b[43m(\u001b[49m\u001b[43mx\u001b[49m\u001b[43m)\u001b[49m\n\u001b[0;32m      5\u001b[0m \u001b[38;5;28mprint\u001b[39m(\u001b[38;5;124m\"\u001b[39m\u001b[38;5;124mInput shape:\u001b[39m\u001b[38;5;124m\"\u001b[39m, x\u001b[38;5;241m.\u001b[39mshape)\n\u001b[0;32m      6\u001b[0m \u001b[38;5;28mprint\u001b[39m(\u001b[38;5;124m\"\u001b[39m\u001b[38;5;124mOutput shape:\u001b[39m\u001b[38;5;124m\"\u001b[39m, output\u001b[38;5;241m.\u001b[39mshape)\n",
      "File \u001b[1;32m~\\AppData\\Local\\Packages\\PythonSoftwareFoundation.Python.3.8_qbz5n2kfra8p0\\LocalCache\\local-packages\\Python38\\site-packages\\torch\\nn\\modules\\module.py:1518\u001b[0m, in \u001b[0;36mModule._wrapped_call_impl\u001b[1;34m(self, *args, **kwargs)\u001b[0m\n\u001b[0;32m   1516\u001b[0m     \u001b[38;5;28;01mreturn\u001b[39;00m \u001b[38;5;28mself\u001b[39m\u001b[38;5;241m.\u001b[39m_compiled_call_impl(\u001b[38;5;241m*\u001b[39margs, \u001b[38;5;241m*\u001b[39m\u001b[38;5;241m*\u001b[39mkwargs)  \u001b[38;5;66;03m# type: ignore[misc]\u001b[39;00m\n\u001b[0;32m   1517\u001b[0m \u001b[38;5;28;01melse\u001b[39;00m:\n\u001b[1;32m-> 1518\u001b[0m     \u001b[38;5;28;01mreturn\u001b[39;00m \u001b[38;5;28;43mself\u001b[39;49m\u001b[38;5;241;43m.\u001b[39;49m\u001b[43m_call_impl\u001b[49m\u001b[43m(\u001b[49m\u001b[38;5;241;43m*\u001b[39;49m\u001b[43margs\u001b[49m\u001b[43m,\u001b[49m\u001b[43m \u001b[49m\u001b[38;5;241;43m*\u001b[39;49m\u001b[38;5;241;43m*\u001b[39;49m\u001b[43mkwargs\u001b[49m\u001b[43m)\u001b[49m\n",
      "File \u001b[1;32m~\\AppData\\Local\\Packages\\PythonSoftwareFoundation.Python.3.8_qbz5n2kfra8p0\\LocalCache\\local-packages\\Python38\\site-packages\\torch\\nn\\modules\\module.py:1527\u001b[0m, in \u001b[0;36mModule._call_impl\u001b[1;34m(self, *args, **kwargs)\u001b[0m\n\u001b[0;32m   1522\u001b[0m \u001b[38;5;66;03m# If we don't have any hooks, we want to skip the rest of the logic in\u001b[39;00m\n\u001b[0;32m   1523\u001b[0m \u001b[38;5;66;03m# this function, and just call forward.\u001b[39;00m\n\u001b[0;32m   1524\u001b[0m \u001b[38;5;28;01mif\u001b[39;00m \u001b[38;5;129;01mnot\u001b[39;00m (\u001b[38;5;28mself\u001b[39m\u001b[38;5;241m.\u001b[39m_backward_hooks \u001b[38;5;129;01mor\u001b[39;00m \u001b[38;5;28mself\u001b[39m\u001b[38;5;241m.\u001b[39m_backward_pre_hooks \u001b[38;5;129;01mor\u001b[39;00m \u001b[38;5;28mself\u001b[39m\u001b[38;5;241m.\u001b[39m_forward_hooks \u001b[38;5;129;01mor\u001b[39;00m \u001b[38;5;28mself\u001b[39m\u001b[38;5;241m.\u001b[39m_forward_pre_hooks\n\u001b[0;32m   1525\u001b[0m         \u001b[38;5;129;01mor\u001b[39;00m _global_backward_pre_hooks \u001b[38;5;129;01mor\u001b[39;00m _global_backward_hooks\n\u001b[0;32m   1526\u001b[0m         \u001b[38;5;129;01mor\u001b[39;00m _global_forward_hooks \u001b[38;5;129;01mor\u001b[39;00m _global_forward_pre_hooks):\n\u001b[1;32m-> 1527\u001b[0m     \u001b[38;5;28;01mreturn\u001b[39;00m \u001b[43mforward_call\u001b[49m\u001b[43m(\u001b[49m\u001b[38;5;241;43m*\u001b[39;49m\u001b[43margs\u001b[49m\u001b[43m,\u001b[49m\u001b[43m \u001b[49m\u001b[38;5;241;43m*\u001b[39;49m\u001b[38;5;241;43m*\u001b[39;49m\u001b[43mkwargs\u001b[49m\u001b[43m)\u001b[49m\n\u001b[0;32m   1529\u001b[0m \u001b[38;5;28;01mtry\u001b[39;00m:\n\u001b[0;32m   1530\u001b[0m     result \u001b[38;5;241m=\u001b[39m \u001b[38;5;28;01mNone\u001b[39;00m\n",
      "Cell \u001b[1;32mIn[42], line 19\u001b[0m, in \u001b[0;36mTransformerBlock.forward\u001b[1;34m(self, x)\u001b[0m\n\u001b[0;32m     17\u001b[0m shortcut \u001b[38;5;241m=\u001b[39m x\n\u001b[0;32m     18\u001b[0m x \u001b[38;5;241m=\u001b[39m \u001b[38;5;28mself\u001b[39m\u001b[38;5;241m.\u001b[39mnorm1(x)\n\u001b[1;32m---> 19\u001b[0m x \u001b[38;5;241m=\u001b[39m \u001b[38;5;28;43mself\u001b[39;49m\u001b[38;5;241;43m.\u001b[39;49m\u001b[43matt\u001b[49m\u001b[43m(\u001b[49m\u001b[43mx\u001b[49m\u001b[43m)\u001b[49m\n\u001b[0;32m     20\u001b[0m x \u001b[38;5;241m=\u001b[39m \u001b[38;5;28mself\u001b[39m\u001b[38;5;241m.\u001b[39mdrop_shortcut(x)\n\u001b[0;32m     21\u001b[0m x \u001b[38;5;241m=\u001b[39m x \u001b[38;5;241m+\u001b[39m shortcut\n",
      "File \u001b[1;32m~\\AppData\\Local\\Packages\\PythonSoftwareFoundation.Python.3.8_qbz5n2kfra8p0\\LocalCache\\local-packages\\Python38\\site-packages\\torch\\nn\\modules\\module.py:1518\u001b[0m, in \u001b[0;36mModule._wrapped_call_impl\u001b[1;34m(self, *args, **kwargs)\u001b[0m\n\u001b[0;32m   1516\u001b[0m     \u001b[38;5;28;01mreturn\u001b[39;00m \u001b[38;5;28mself\u001b[39m\u001b[38;5;241m.\u001b[39m_compiled_call_impl(\u001b[38;5;241m*\u001b[39margs, \u001b[38;5;241m*\u001b[39m\u001b[38;5;241m*\u001b[39mkwargs)  \u001b[38;5;66;03m# type: ignore[misc]\u001b[39;00m\n\u001b[0;32m   1517\u001b[0m \u001b[38;5;28;01melse\u001b[39;00m:\n\u001b[1;32m-> 1518\u001b[0m     \u001b[38;5;28;01mreturn\u001b[39;00m \u001b[38;5;28;43mself\u001b[39;49m\u001b[38;5;241;43m.\u001b[39;49m\u001b[43m_call_impl\u001b[49m\u001b[43m(\u001b[49m\u001b[38;5;241;43m*\u001b[39;49m\u001b[43margs\u001b[49m\u001b[43m,\u001b[49m\u001b[43m \u001b[49m\u001b[38;5;241;43m*\u001b[39;49m\u001b[38;5;241;43m*\u001b[39;49m\u001b[43mkwargs\u001b[49m\u001b[43m)\u001b[49m\n",
      "File \u001b[1;32m~\\AppData\\Local\\Packages\\PythonSoftwareFoundation.Python.3.8_qbz5n2kfra8p0\\LocalCache\\local-packages\\Python38\\site-packages\\torch\\nn\\modules\\module.py:1527\u001b[0m, in \u001b[0;36mModule._call_impl\u001b[1;34m(self, *args, **kwargs)\u001b[0m\n\u001b[0;32m   1522\u001b[0m \u001b[38;5;66;03m# If we don't have any hooks, we want to skip the rest of the logic in\u001b[39;00m\n\u001b[0;32m   1523\u001b[0m \u001b[38;5;66;03m# this function, and just call forward.\u001b[39;00m\n\u001b[0;32m   1524\u001b[0m \u001b[38;5;28;01mif\u001b[39;00m \u001b[38;5;129;01mnot\u001b[39;00m (\u001b[38;5;28mself\u001b[39m\u001b[38;5;241m.\u001b[39m_backward_hooks \u001b[38;5;129;01mor\u001b[39;00m \u001b[38;5;28mself\u001b[39m\u001b[38;5;241m.\u001b[39m_backward_pre_hooks \u001b[38;5;129;01mor\u001b[39;00m \u001b[38;5;28mself\u001b[39m\u001b[38;5;241m.\u001b[39m_forward_hooks \u001b[38;5;129;01mor\u001b[39;00m \u001b[38;5;28mself\u001b[39m\u001b[38;5;241m.\u001b[39m_forward_pre_hooks\n\u001b[0;32m   1525\u001b[0m         \u001b[38;5;129;01mor\u001b[39;00m _global_backward_pre_hooks \u001b[38;5;129;01mor\u001b[39;00m _global_backward_hooks\n\u001b[0;32m   1526\u001b[0m         \u001b[38;5;129;01mor\u001b[39;00m _global_forward_hooks \u001b[38;5;129;01mor\u001b[39;00m _global_forward_pre_hooks):\n\u001b[1;32m-> 1527\u001b[0m     \u001b[38;5;28;01mreturn\u001b[39;00m \u001b[43mforward_call\u001b[49m\u001b[43m(\u001b[49m\u001b[38;5;241;43m*\u001b[39;49m\u001b[43margs\u001b[49m\u001b[43m,\u001b[49m\u001b[43m \u001b[49m\u001b[38;5;241;43m*\u001b[39;49m\u001b[38;5;241;43m*\u001b[39;49m\u001b[43mkwargs\u001b[49m\u001b[43m)\u001b[49m\n\u001b[0;32m   1529\u001b[0m \u001b[38;5;28;01mtry\u001b[39;00m:\n\u001b[0;32m   1530\u001b[0m     result \u001b[38;5;241m=\u001b[39m \u001b[38;5;28;01mNone\u001b[39;00m\n",
      "Cell \u001b[1;32mIn[41], line 32\u001b[0m, in \u001b[0;36mMulatHeadAttention.forward\u001b[1;34m(self, x)\u001b[0m\n\u001b[0;32m     30\u001b[0m attn_weights \u001b[38;5;241m=\u001b[39m \u001b[38;5;28mself\u001b[39m\u001b[38;5;241m.\u001b[39mdropout(attn_weights)\n\u001b[0;32m     31\u001b[0m context_vec\u001b[38;5;241m=\u001b[39m (attn_weights\u001b[38;5;129m@values\u001b[39m)\u001b[38;5;241m.\u001b[39mtranspose(\u001b[38;5;241m1\u001b[39m,\u001b[38;5;241m2\u001b[39m)\n\u001b[1;32m---> 32\u001b[0m contex_vec  \u001b[38;5;241m=\u001b[39m \u001b[43mcontext_vec\u001b[49m\u001b[38;5;241;43m.\u001b[39;49m\u001b[43mcontigious\u001b[49m()\u001b[38;5;241m.\u001b[39mview(b, num_tokens,\u001b[38;5;28mself\u001b[39m\u001b[38;5;241m.\u001b[39md_out)\n\u001b[0;32m     33\u001b[0m contex_vec\u001b[38;5;241m=\u001b[39m contex_vec\u001b[38;5;241m.\u001b[39mout_proj(contex_vec)\n\u001b[0;32m     34\u001b[0m \u001b[38;5;28;01mreturn\u001b[39;00m contex_vec\n",
      "\u001b[1;31mAttributeError\u001b[0m: 'Tensor' object has no attribute 'contigious'"
     ]
    }
   ],
   "source": [
    "torch.manual_seed(123)\n",
    "x = torch.rand(2, 4, 768)\n",
    "block = TransformerBlock(GPT_CONFIG_124M)\n",
    "output = block(x)\n",
    "print(\"Input shape:\", x.shape)\n",
    "print(\"Output shape:\", output.shape)"
   ]
  },
  {
   "cell_type": "code",
   "execution_count": null,
   "metadata": {},
   "outputs": [],
   "source": []
  }
 ],
 "metadata": {
  "kernelspec": {
   "display_name": "Python 3",
   "language": "python",
   "name": "python3"
  },
  "language_info": {
   "codemirror_mode": {
    "name": "ipython",
    "version": 3
   },
   "file_extension": ".py",
   "mimetype": "text/x-python",
   "name": "python",
   "nbconvert_exporter": "python",
   "pygments_lexer": "ipython3",
   "version": "3.8.10"
  }
 },
 "nbformat": 4,
 "nbformat_minor": 2
}
