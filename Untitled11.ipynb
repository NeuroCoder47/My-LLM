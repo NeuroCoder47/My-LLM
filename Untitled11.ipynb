{
  "nbformat": 4,
  "nbformat_minor": 0,
  "metadata": {
    "colab": {
      "provenance": [],
      "gpuType": "T4"
    },
    "kernelspec": {
      "name": "python3",
      "display_name": "Python 3"
    },
    "language_info": {
      "name": "python"
    },
    "accelerator": "GPU"
  },
  "cells": [
    {
      "cell_type": "code",
      "source": [
        "import os\n",
        "import io\n",
        "import re\n",
        "import math\n",
        "import torch\n",
        "import numpy as np\n",
        "import pandas as pd\n",
        "import matplotlib.pyplot as plt\n",
        "import torch.nn as nn\n",
        "import torch.optim as optim\n",
        "from torch.utils.data import Dataset, DataLoader\n",
        "from torch.distributions import Categorical\n",
        "from tqdm import tqdm\n",
        "import sentencepiece as spm\n",
        "\n",
        "class TextDataset(Dataset):\n",
        "    def __init__(self, file_path, max_length=512):\n",
        "        with open(file_path, 'r', encoding='utf-8') as f:\n",
        "            self.texts = f.readlines()\n",
        "        self.max_length = max_length\n",
        "\n",
        "    def __len__(self):\n",
        "        return len(self.texts)\n",
        "\n",
        "    def __getitem__(self, idx):\n",
        "        return self.texts[idx].strip()[:self.max_length]\n",
        "\n",
        "class TextGenerator:\n",
        "    def __init__(self, input_file, vocab_size=20000, model_type='unigram'):\n",
        "        self.input_file = input_file\n",
        "        self.vocab_size = vocab_size\n",
        "        self.model_type = model_type\n",
        "        self.device = self._select_device()\n",
        "\n",
        "        self._prepare_tokenizer()\n",
        "        self._build_model()\n",
        "\n",
        "    def _select_device(self):\n",
        "        if torch.cuda.is_available():\n",
        "            torch.cuda.empty_cache()\n",
        "            device = torch.device('cuda')\n",
        "            print(f\"Using GPU: {torch.cuda.get_device_name(0)}\")\n",
        "        else:\n",
        "            device = torch.device('cpu')\n",
        "            print(\"Using CPU\")\n",
        "        return device\n",
        "\n",
        "    def _prepare_tokenizer(self):\n",
        "        model_prefix = 'text_tokenizer'\n",
        "\n",
        "        # Train SentencePiece tokenizer\n",
        "        spm.SentencePieceTrainer.train(\n",
        "            input=self.input_file,\n",
        "            model_prefix=model_prefix,\n",
        "            vocab_size=self.vocab_size,\n",
        "            model_type=self.model_type\n",
        "        )\n",
        "\n",
        "        self.tokenizer = spm.SentencePieceProcessor(model_file=f'{model_prefix}.model')\n",
        "        self.vocab = {self.tokenizer.id_to_piece(i): i for i in range(self.tokenizer.get_piece_size())}\n",
        "\n",
        "    def _build_model(self, hidden_size=256, num_layers=6, num_heads=8):\n",
        "        class SinusoidalPosEmb(nn.Module):\n",
        "            def __init__(self, dim):\n",
        "                super().__init__()\n",
        "                self.dim = dim\n",
        "\n",
        "            def forward(self, x):\n",
        "                device = x.device\n",
        "                half_dim = self.dim // 2\n",
        "                emb = math.log(10000) / (half_dim - 1)\n",
        "                emb = torch.exp(torch.arange(half_dim, device=device) * -emb)\n",
        "                emb = x[:, None] * emb[None, :]\n",
        "                emb = torch.cat((emb.sin(), emb.cos()), dim=-1)\n",
        "                return emb\n",
        "\n",
        "        class TransformerBlock(nn.Module):\n",
        "            def __init__(self, hidden_size, num_heads):\n",
        "                super().__init__()\n",
        "                self.norm1 = nn.LayerNorm(hidden_size)\n",
        "                self.multihead_attn = nn.MultiheadAttention(\n",
        "                    hidden_size, num_heads=num_heads,\n",
        "                    batch_first=True, dropout=0.1\n",
        "                )\n",
        "                self.norm2 = nn.LayerNorm(hidden_size)\n",
        "                self.mlp = nn.Sequential(\n",
        "                    nn.Linear(hidden_size, hidden_size * 4),\n",
        "                    nn.GELU(),\n",
        "                    nn.Linear(hidden_size * 4, hidden_size)\n",
        "                )\n",
        "\n",
        "            def forward(self, x, padding_mask=None):\n",
        "                mask = torch.triu(torch.ones(x.size(1), x.size(1), device=x.device), 1).bool()\n",
        "                norm_x = self.norm1(x)\n",
        "                x = self.multihead_attn(norm_x, norm_x, norm_x,\n",
        "                                         attn_mask=mask,\n",
        "                                         key_padding_mask=padding_mask)[0] + x\n",
        "                norm_x = self.norm2(x)\n",
        "                return self.mlp(norm_x) + x\n",
        "\n",
        "        class Transformer(nn.Module):\n",
        "            def __init__(self, vocab_size, hidden_size, num_layers, num_heads):\n",
        "                super().__init__()\n",
        "                self.embedding = nn.Embedding(vocab_size, hidden_size)\n",
        "                self.pos_emb = SinusoidalPosEmb(hidden_size)\n",
        "                self.blocks = nn.ModuleList([\n",
        "                    TransformerBlock(hidden_size, num_heads) for _ in range(num_layers)\n",
        "                ])\n",
        "                self.fc_out = nn.Linear(hidden_size, vocab_size)\n",
        "\n",
        "            def forward(self, input_seq):\n",
        "                input_key_mask = input_seq == 0\n",
        "                input_embs = self.embedding(input_seq)\n",
        "                bs, l, h = input_embs.shape\n",
        "                seq_indx = torch.arange(l, device=input_seq.device)\n",
        "                pos_emb = self.pos_emb(seq_indx).reshape(1, l, h).expand(bs, l, h)\n",
        "                embs = input_embs + pos_emb\n",
        "\n",
        "                for block in self.blocks:\n",
        "                    embs = block(embs, input_key_mask)\n",
        "\n",
        "                return self.fc_out(embs)\n",
        "\n",
        "        self.model = Transformer(\n",
        "            vocab_size=len(self.vocab),\n",
        "            hidden_size=hidden_size,\n",
        "            num_layers=num_layers,\n",
        "            num_heads=num_heads\n",
        "        ).to(self.device)\n",
        "\n",
        "        self.optimizer = torch.optim.AdamW(self.model.parameters(), lr=1e-4)\n",
        "        self.scaler = torch.cuda.amp.GradScaler()\n",
        "        self.loss_fn = nn.CrossEntropyLoss(reduction=\"none\")\n",
        "\n",
        "    def train(self, epochs=50, batch_size=32, max_length=128):\n",
        "        dataset = TextDataset(self.input_file, max_length)\n",
        "        dataloader = DataLoader(dataset, batch_size=batch_size, shuffle=True, num_workers=os.cpu_count())\n",
        "\n",
        "        training_loss_logger = []\n",
        "        entropy_logger = []\n",
        "\n",
        "        for epoch in range(epochs):\n",
        "            self.model.train()\n",
        "            epoch_loss = 0.0\n",
        "\n",
        "            with tqdm(dataloader, desc=f'Epoch {epoch+1}/{epochs}', unit='batch') as tepoch:\n",
        "                for batch_idx, texts in enumerate(tepoch):\n",
        "                    # Tokenize texts\n",
        "                    tokenized_texts = [self.tokenizer.encode(text) for text in texts]\n",
        "\n",
        "                    # Pad or truncate to max_length\n",
        "                    tokenized_texts = [tokens[:max_length] for tokens in tokenized_texts]\n",
        "\n",
        "                    # Create tensor\n",
        "                    input_tensors = torch.tensor([\n",
        "                        tokens[:-1] + [0] * (max_length - len(tokens) + 1)\n",
        "                        for tokens in tokenized_texts\n",
        "                    ]).to(self.device)\n",
        "\n",
        "                    target_tensors = torch.tensor([\n",
        "                        tokens[1:] + [0] * (max_length - len(tokens) + 1)\n",
        "                        for tokens in tokenized_texts\n",
        "                    ]).to(self.device)\n",
        "\n",
        "                    self.optimizer.zero_grad()\n",
        "\n",
        "                    with torch.cuda.amp.autocast():\n",
        "                        outputs = self.model(input_tensors)\n",
        "                        loss = self._compute_loss(outputs, target_tensors)\n",
        "\n",
        "                    self.scaler.scale(loss).backward()\n",
        "                    self.scaler.step(self.optimizer)\n",
        "                    self.scaler.update()\n",
        "\n",
        "                    epoch_loss += loss.item()\n",
        "                    tepoch.set_postfix(loss=loss.item())\n",
        "\n",
        "                    # Compute entropy\n",
        "                    with torch.no_grad():\n",
        "                        dist = Categorical(logits=outputs)\n",
        "                        entropy = dist.entropy().mean().item()\n",
        "                        entropy_logger.append(entropy)\n",
        "\n",
        "            avg_epoch_loss = epoch_loss / len(dataloader)\n",
        "            training_loss_logger.append(avg_epoch_loss)\n",
        "            print(f'Epoch {epoch+1} Average Loss: {avg_epoch_loss:.4f}')\n",
        "\n",
        "        return training_loss_logger, entropy_logger\n",
        "\n",
        "    def _compute_loss(self, predictions, targets):\n",
        "        mask = (targets != 0).float()\n",
        "        loss = self.loss_fn(predictions.transpose(1, 2), targets) * mask\n",
        "        return loss.sum() / mask.sum()\n",
        "\n",
        "    def generate_text(self, prompt, max_length=100, temperature=0.7):\n",
        "        self.model.eval()\n",
        "        input_ids = torch.tensor(self.tokenizer.encode(prompt)).unsqueeze(0).to(self.device)\n",
        "\n",
        "        with torch.no_grad():\n",
        "            for _ in range(max_length):\n",
        "                outputs = self.model(input_ids)\n",
        "                next_token_logits = outputs[0, -1, :] / temperature\n",
        "                next_token_probs = torch.softmax(next_token_logits, dim=-1)\n",
        "                next_token = torch.multinomial(next_token_probs, 1)\n",
        "\n",
        "                input_ids = torch.cat([input_ids, next_token.unsqueeze(0)], dim=1)\n",
        "\n",
        "                if next_token.item() == self.tokenizer.piece_to_id('</s>'):\n",
        "                    break\n",
        "\n",
        "        generated_text = self.tokenizer.decode(input_ids[0].cpu().numpy())\n",
        "        return generated_text\n",
        "\n",
        "# Example usage\n",
        "if __name__ == \"__main__\":\n",
        "    input_file = \"/content/train.txt\"  # Replace with your text file\n",
        "    generator = TextGenerator(input_file)\n",
        "\n",
        "    # Train the model\n",
        "    loss_history, entropy_history = generator.train(epochs=10)\n",
        "\n",
        "    # Plot training metrics\n",
        "    plt.figure(figsize=(10, 5))\n",
        "    plt.plot(loss_history)\n",
        "    plt.title('Training Loss')\n",
        "    plt.show()\n",
        "\n",
        "    # Generate text\n",
        "    prompt = \"Once upon a time\"\n",
        "    generated_text = generator.generate_text(prompt)\n",
        "    print(generated_text)"
      ],
      "metadata": {
        "colab": {
          "base_uri": "https://localhost:8080/",
          "height": 1000
        },
        "id": "OS6A-XpLRLLi",
        "outputId": "ee05311e-d592-4a9f-8e40-0a3567490cf1"
      },
      "execution_count": 2,
      "outputs": [
        {
          "output_type": "stream",
          "name": "stdout",
          "text": [
            "Using GPU: Tesla T4\n"
          ]
        },
        {
          "output_type": "stream",
          "name": "stderr",
          "text": [
            "<ipython-input-2-1e741c2c8553>:132: FutureWarning: `torch.cuda.amp.GradScaler(args...)` is deprecated. Please use `torch.amp.GradScaler('cuda', args...)` instead.\n",
            "  self.scaler = torch.cuda.amp.GradScaler()\n",
            "Epoch 1/10:   0%|          | 0/4262 [00:00<?, ?batch/s]<ipython-input-2-1e741c2c8553>:167: FutureWarning: `torch.cuda.amp.autocast(args...)` is deprecated. Please use `torch.amp.autocast('cuda', args...)` instead.\n",
            "  with torch.cuda.amp.autocast():\n",
            "Epoch 1/10: 100%|██████████| 4262/4262 [08:00<00:00,  8.87batch/s, loss=4.22]\n"
          ]
        },
        {
          "output_type": "stream",
          "name": "stdout",
          "text": [
            "Epoch 1 Average Loss: 4.0252\n"
          ]
        },
        {
          "output_type": "stream",
          "name": "stderr",
          "text": [
            "Epoch 2/10: 100%|██████████| 4262/4262 [08:00<00:00,  8.88batch/s, loss=2.17]\n"
          ]
        },
        {
          "output_type": "stream",
          "name": "stdout",
          "text": [
            "Epoch 2 Average Loss: 3.2587\n"
          ]
        },
        {
          "output_type": "stream",
          "name": "stderr",
          "text": [
            "Epoch 3/10: 100%|██████████| 4262/4262 [08:01<00:00,  8.86batch/s, loss=3.69]\n"
          ]
        },
        {
          "output_type": "stream",
          "name": "stdout",
          "text": [
            "Epoch 3 Average Loss: 3.0116\n"
          ]
        },
        {
          "output_type": "stream",
          "name": "stderr",
          "text": [
            "Epoch 4/10: 100%|██████████| 4262/4262 [07:58<00:00,  8.91batch/s, loss=2.01]\n"
          ]
        },
        {
          "output_type": "stream",
          "name": "stdout",
          "text": [
            "Epoch 4 Average Loss: 2.8535\n"
          ]
        },
        {
          "output_type": "stream",
          "name": "stderr",
          "text": [
            "Epoch 5/10: 100%|██████████| 4262/4262 [08:01<00:00,  8.85batch/s, loss=3.16]\n"
          ]
        },
        {
          "output_type": "stream",
          "name": "stdout",
          "text": [
            "Epoch 5 Average Loss: 2.7311\n"
          ]
        },
        {
          "output_type": "stream",
          "name": "stderr",
          "text": [
            "Epoch 6/10: 100%|██████████| 4262/4262 [08:00<00:00,  8.87batch/s, loss=2.33]\n"
          ]
        },
        {
          "output_type": "stream",
          "name": "stdout",
          "text": [
            "Epoch 6 Average Loss: 2.6267\n"
          ]
        },
        {
          "output_type": "stream",
          "name": "stderr",
          "text": [
            "Epoch 7/10: 100%|██████████| 4262/4262 [07:59<00:00,  8.89batch/s, loss=2.47]\n"
          ]
        },
        {
          "output_type": "stream",
          "name": "stdout",
          "text": [
            "Epoch 7 Average Loss: 2.5348\n"
          ]
        },
        {
          "output_type": "stream",
          "name": "stderr",
          "text": [
            "Epoch 8/10: 100%|██████████| 4262/4262 [08:00<00:00,  8.88batch/s, loss=1.53]\n"
          ]
        },
        {
          "output_type": "stream",
          "name": "stdout",
          "text": [
            "Epoch 8 Average Loss: 2.4507\n"
          ]
        },
        {
          "output_type": "stream",
          "name": "stderr",
          "text": [
            "Epoch 9/10: 100%|██████████| 4262/4262 [08:00<00:00,  8.88batch/s, loss=2.01]\n"
          ]
        },
        {
          "output_type": "stream",
          "name": "stdout",
          "text": [
            "Epoch 9 Average Loss: 2.3743\n"
          ]
        },
        {
          "output_type": "stream",
          "name": "stderr",
          "text": [
            "Epoch 10/10: 100%|██████████| 4262/4262 [07:59<00:00,  8.89batch/s, loss=2.36]\n"
          ]
        },
        {
          "output_type": "stream",
          "name": "stdout",
          "text": [
            "Epoch 10 Average Loss: 2.3024\n"
          ]
        },
        {
          "output_type": "display_data",
          "data": {
            "text/plain": [
              "<Figure size 1000x500 with 1 Axes>"
            ],
            "image/png": "[encoded data removed]"
          },
          "metadata": {}
        },
        {
          "output_type": "error",
          "ename": "ValueError",
          "evalue": "The truth value of an array with more than one element is ambiguous. Use a.any() or a.all()",
          "traceback": [
            "\u001b[0;31m---------------------------------------------------------------------------\u001b[0m",
            "\u001b[0;31mValueError\u001b[0m                                Traceback (most recent call last)",
            "\u001b[0;32m<ipython-input-2-1e741c2c8553>\u001b[0m in \u001b[0;36m<cell line: 215>\u001b[0;34m()\u001b[0m\n\u001b[1;32m    228\u001b[0m     \u001b[0;31m# Generate text\u001b[0m\u001b[0;34m\u001b[0m\u001b[0;34m\u001b[0m\u001b[0m\n\u001b[1;32m    229\u001b[0m     \u001b[0mprompt\u001b[0m \u001b[0;34m=\u001b[0m \u001b[0;34m\"Once upon a time\"\u001b[0m\u001b[0;34m\u001b[0m\u001b[0;34m\u001b[0m\u001b[0m\n\u001b[0;32m--> 230\u001b[0;31m     \u001b[0mgenerated_text\u001b[0m \u001b[0;34m=\u001b[0m \u001b[0mgenerator\u001b[0m\u001b[0;34m.\u001b[0m\u001b[0mgenerate_text\u001b[0m\u001b[0;34m(\u001b[0m\u001b[0mprompt\u001b[0m\u001b[0;34m)\u001b[0m\u001b[0;34m\u001b[0m\u001b[0;34m\u001b[0m\u001b[0m\n\u001b[0m\u001b[1;32m    231\u001b[0m     \u001b[0mprint\u001b[0m\u001b[0;34m(\u001b[0m\u001b[0mgenerated_text\u001b[0m\u001b[0;34m)\u001b[0m\u001b[0;34m\u001b[0m\u001b[0;34m\u001b[0m\u001b[0m\n",
            "\u001b[0;32m<ipython-input-2-1e741c2c8553>\u001b[0m in \u001b[0;36mgenerate_text\u001b[0;34m(self, prompt, max_length, temperature)\u001b[0m\n\u001b[1;32m    209\u001b[0m                     \u001b[0;32mbreak\u001b[0m\u001b[0;34m\u001b[0m\u001b[0;34m\u001b[0m\u001b[0m\n\u001b[1;32m    210\u001b[0m \u001b[0;34m\u001b[0m\u001b[0m\n\u001b[0;32m--> 211\u001b[0;31m         \u001b[0mgenerated_text\u001b[0m \u001b[0;34m=\u001b[0m \u001b[0mself\u001b[0m\u001b[0;34m.\u001b[0m\u001b[0mtokenizer\u001b[0m\u001b[0;34m.\u001b[0m\u001b[0mdecode\u001b[0m\u001b[0;34m(\u001b[0m\u001b[0minput_ids\u001b[0m\u001b[0;34m[\u001b[0m\u001b[0;36m0\u001b[0m\u001b[0;34m]\u001b[0m\u001b[0;34m.\u001b[0m\u001b[0mcpu\u001b[0m\u001b[0;34m(\u001b[0m\u001b[0;34m)\u001b[0m\u001b[0;34m.\u001b[0m\u001b[0mnumpy\u001b[0m\u001b[0;34m(\u001b[0m\u001b[0;34m)\u001b[0m\u001b[0;34m)\u001b[0m\u001b[0;34m\u001b[0m\u001b[0;34m\u001b[0m\u001b[0m\n\u001b[0m\u001b[1;32m    212\u001b[0m         \u001b[0;32mreturn\u001b[0m \u001b[0mgenerated_text\u001b[0m\u001b[0;34m\u001b[0m\u001b[0;34m\u001b[0m\u001b[0m\n\u001b[1;32m    213\u001b[0m \u001b[0;34m\u001b[0m\u001b[0m\n",
            "\u001b[0;32m/usr/local/lib/python3.10/dist-packages/sentencepiece/__init__.py\u001b[0m in \u001b[0;36mDecode\u001b[0;34m(self, input, out_type, num_threads)\u001b[0m\n\u001b[1;32m    788\u001b[0m         \u001b[0;32mraise\u001b[0m \u001b[0mRuntimeError\u001b[0m\u001b[0;34m(\u001b[0m\u001b[0;34m'num_threads must be int'\u001b[0m\u001b[0;34m)\u001b[0m\u001b[0;34m\u001b[0m\u001b[0;34m\u001b[0m\u001b[0m\n\u001b[1;32m    789\u001b[0m \u001b[0;34m\u001b[0m\u001b[0m\n\u001b[0;32m--> 790\u001b[0;31m       \u001b[0;32mif\u001b[0m \u001b[0;32mnot\u001b[0m \u001b[0minput\u001b[0m\u001b[0;34m:\u001b[0m\u001b[0;34m\u001b[0m\u001b[0;34m\u001b[0m\u001b[0m\n\u001b[0m\u001b[1;32m    791\u001b[0m         \u001b[0;32mreturn\u001b[0m \u001b[0;34m''\u001b[0m\u001b[0;34m\u001b[0m\u001b[0;34m\u001b[0m\u001b[0m\n\u001b[1;32m    792\u001b[0m \u001b[0;34m\u001b[0m\u001b[0m\n",
            "\u001b[0;31mValueError\u001b[0m: The truth value of an array with more than one element is ambiguous. Use a.any() or a.all()"
          ]
        }
      ]
    },
    {
      "cell_type": "code",
      "execution_count": null,
      "metadata": {
        "id": "b7Kdb8nMQLqv"
      },
      "outputs": [],
      "source": []
    }
  ]
}